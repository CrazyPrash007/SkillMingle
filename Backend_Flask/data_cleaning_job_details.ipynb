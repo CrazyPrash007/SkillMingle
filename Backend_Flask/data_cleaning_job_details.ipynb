{
 "cells": [
  {
   "cell_type": "code",
   "execution_count": 21,
   "metadata": {},
   "outputs": [],
   "source": [
    "import pandas as pd\n",
    "import numpy as np"
   ]
  },
  {
   "cell_type": "code",
   "execution_count": 22,
   "metadata": {},
   "outputs": [],
   "source": [
    "# Define the file path\n",
    "job_details_path = \"job_details.csv\"\n",
    "\n",
    "# Read the file with an alternative encoding\n",
    "try:\n",
    "    data = pd.read_csv(job_details_path, encoding='latin1')\n",
    "except UnicodeDecodeError:\n",
    "    data = pd.read_csv(job_details_path, encoding='ISO-8859-1')\n"
   ]
  },
  {
   "cell_type": "code",
   "execution_count": 23,
   "metadata": {},
   "outputs": [
    {
     "data": {
      "text/html": [
       "<div>\n",
       "<style scoped>\n",
       "    .dataframe tbody tr th:only-of-type {\n",
       "        vertical-align: middle;\n",
       "    }\n",
       "\n",
       "    .dataframe tbody tr th {\n",
       "        vertical-align: top;\n",
       "    }\n",
       "\n",
       "    .dataframe thead th {\n",
       "        text-align: right;\n",
       "    }\n",
       "</style>\n",
       "<table border=\"1\" class=\"dataframe\">\n",
       "  <thead>\n",
       "    <tr style=\"text-align: right;\">\n",
       "      <th></th>\n",
       "      <th>Job Title</th>\n",
       "      <th>EX_level_demand</th>\n",
       "      <th>Description</th>\n",
       "      <th>Category_1</th>\n",
       "      <th>Category_2</th>\n",
       "      <th>Category_3</th>\n",
       "      <th>Category_4</th>\n",
       "      <th>Category_5</th>\n",
       "      <th>Category_6</th>\n",
       "      <th>Category_7</th>\n",
       "      <th>Category_8</th>\n",
       "      <th>Category_9</th>\n",
       "      <th>Client_Country</th>\n",
       "      <th>Rating</th>\n",
       "      <th>Feedback_Num</th>\n",
       "      <th>Payment_type</th>\n",
       "      <th>Hourly_Rate</th>\n",
       "      <th>Start_rate</th>\n",
       "      <th>End_rate</th>\n",
       "    </tr>\n",
       "  </thead>\n",
       "  <tbody>\n",
       "    <tr>\n",
       "      <th>0</th>\n",
       "      <td>Power bi specialist freelance</td>\n",
       "      <td>Expert</td>\n",
       "      <td>Already data pooled and designed. Need to refi...</td>\n",
       "      <td>Data Analysis</td>\n",
       "      <td>Data Visualization</td>\n",
       "      <td>Microsoft Power BI</td>\n",
       "      <td>SQL</td>\n",
       "      <td>NaN</td>\n",
       "      <td>NaN</td>\n",
       "      <td>NaN</td>\n",
       "      <td>NaN</td>\n",
       "      <td>NaN</td>\n",
       "      <td>United States</td>\n",
       "      <td>NaN</td>\n",
       "      <td>0</td>\n",
       "      <td>Fixed-price</td>\n",
       "      <td>NaN</td>\n",
       "      <td>0</td>\n",
       "      <td>NaN</td>\n",
       "    </tr>\n",
       "    <tr>\n",
       "      <th>1</th>\n",
       "      <td>Case Study (on-demand delivery startup)</td>\n",
       "      <td>Intermediate</td>\n",
       "      <td>Hi,\\n\\nWould you be able to help me do a case-...</td>\n",
       "      <td>Google Data Studio</td>\n",
       "      <td>SQL</td>\n",
       "      <td>Tableau</td>\n",
       "      <td>Microsoft Excel</td>\n",
       "      <td>Microsoft PowerPoint</td>\n",
       "      <td>Python</td>\n",
       "      <td>Analytics</td>\n",
       "      <td>Visualization</td>\n",
       "      <td>NaN</td>\n",
       "      <td>Canada</td>\n",
       "      <td>5.0</td>\n",
       "      <td>1</td>\n",
       "      <td>Fixed-price</td>\n",
       "      <td>NaN</td>\n",
       "      <td>0</td>\n",
       "      <td>NaN</td>\n",
       "    </tr>\n",
       "  </tbody>\n",
       "</table>\n",
       "</div>"
      ],
      "text/plain": [
       "                                 Job Title EX_level_demand  \\\n",
       "0            Power bi specialist freelance          Expert   \n",
       "1  Case Study (on-demand delivery startup)    Intermediate   \n",
       "\n",
       "                                         Description          Category_1  \\\n",
       "0  Already data pooled and designed. Need to refi...       Data Analysis   \n",
       "1  Hi,\\n\\nWould you be able to help me do a case-...  Google Data Studio   \n",
       "\n",
       "           Category_2          Category_3       Category_4  \\\n",
       "0  Data Visualization  Microsoft Power BI              SQL   \n",
       "1                 SQL             Tableau  Microsoft Excel   \n",
       "\n",
       "             Category_5 Category_6 Category_7     Category_8 Category_9  \\\n",
       "0                   NaN        NaN        NaN            NaN        NaN   \n",
       "1  Microsoft PowerPoint     Python  Analytics  Visualization        NaN   \n",
       "\n",
       "  Client_Country  Rating  Feedback_Num Payment_type Hourly_Rate Start_rate  \\\n",
       "0  United States     NaN             0  Fixed-price         NaN          0   \n",
       "1         Canada     5.0             1  Fixed-price         NaN          0   \n",
       "\n",
       "  End_rate  \n",
       "0      NaN  \n",
       "1      NaN  "
      ]
     },
     "execution_count": 23,
     "metadata": {},
     "output_type": "execute_result"
    }
   ],
   "source": [
    "data.head(2)"
   ]
  },
  {
   "cell_type": "code",
   "execution_count": 24,
   "metadata": {},
   "outputs": [],
   "source": [
    "# Clean Start_rate and End_rate columns to retain numeric values\n",
    "data['Start_rate'] = data['Start_rate'].replace(r'[^\\d.]', '', regex=True).astype(float, errors='ignore')\n",
    "data['End_rate'] = data['End_rate'].replace(r'[^\\d.]', '', regex=True).astype(float, errors='ignore')\n",
    "\n",
    "# Fill missing values\n",
    "data['Start_rate'] = data['Start_rate'].fillna(data['Start_rate'].mean())\n",
    "data['End_rate'] = data['End_rate'].fillna(data['End_rate'].median())\n",
    "data['Rating'] = data['Rating'].fillna(data['Rating'].mean())\n",
    "data['Description'] = data['Description'].fillna(\"No Description Provided\")"
   ]
  },
  {
   "cell_type": "code",
   "execution_count": 25,
   "metadata": {},
   "outputs": [],
   "source": [
    "# Map the EX_level_demand column to numeric values\n",
    "level_mapping = {\n",
    "    'Expert': 0,\n",
    "    'Intermediate': 1,\n",
    "    'Entry level': 2\n",
    "}\n",
    "data['EX_level_demand'] = data['EX_level_demand'].map(level_mapping)"
   ]
  },
  {
   "cell_type": "code",
   "execution_count": 26,
   "metadata": {},
   "outputs": [
    {
     "name": "stdout",
     "output_type": "stream",
     "text": [
      "<class 'pandas.core.frame.DataFrame'>\n",
      "RangeIndex: 63949 entries, 0 to 63948\n",
      "Data columns (total 19 columns):\n",
      " #   Column           Non-Null Count  Dtype  \n",
      "---  ------           --------------  -----  \n",
      " 0   Job Title        63948 non-null  object \n",
      " 1   EX_level_demand  56935 non-null  float64\n",
      " 2   Description      63949 non-null  object \n",
      " 3   Category_1       63505 non-null  object \n",
      " 4   Category_2       59889 non-null  object \n",
      " 5   Category_3       54997 non-null  object \n",
      " 6   Category_4       47543 non-null  object \n",
      " 7   Category_5       39578 non-null  object \n",
      " 8   Category_6       31307 non-null  object \n",
      " 9   Category_7       25192 non-null  object \n",
      " 10  Category_8       20436 non-null  object \n",
      " 11  Category_9       16481 non-null  object \n",
      " 12  Client_Country   63825 non-null  object \n",
      " 13  Rating           63949 non-null  float64\n",
      " 14  Feedback_Num     63949 non-null  int64  \n",
      " 15  Payment_type     63949 non-null  object \n",
      " 16  Hourly_Rate      26570 non-null  object \n",
      " 17  Start_rate       63949 non-null  float64\n",
      " 18  End_rate         63949 non-null  float64\n",
      "dtypes: float64(4), int64(1), object(14)\n",
      "memory usage: 9.3+ MB\n"
     ]
    }
   ],
   "source": [
    "data.info()"
   ]
  }
 ],
 "metadata": {
  "kernelspec": {
   "display_name": "Python 3",
   "language": "python",
   "name": "python3"
  },
  "language_info": {
   "codemirror_mode": {
    "name": "ipython",
    "version": 3
   },
   "file_extension": ".py",
   "mimetype": "text/x-python",
   "name": "python",
   "nbconvert_exporter": "python",
   "pygments_lexer": "ipython3",
   "version": "3.8.10"
  }
 },
 "nbformat": 4,
 "nbformat_minor": 2
}
